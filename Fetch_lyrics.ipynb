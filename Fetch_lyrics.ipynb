{
  "nbformat": 4,
  "nbformat_minor": 0,
  "metadata": {
    "colab": {
      "provenance": [],
      "authorship_tag": "ABX9TyPEDEbPo4R+BjwPQeH9iCCl",
      "include_colab_link": true
    },
    "kernelspec": {
      "name": "python3",
      "display_name": "Python 3"
    },
    "language_info": {
      "name": "python"
    }
  },
  "cells": [
    {
      "cell_type": "markdown",
      "metadata": {
        "id": "view-in-github",
        "colab_type": "text"
      },
      "source": [
        "<a href=\"https://colab.research.google.com/github/Pratibha65/Fetch-lyrics/blob/main/Fetch_lyrics.ipynb\" target=\"_parent\"><img src=\"https://colab.research.google.com/assets/colab-badge.svg\" alt=\"Open In Colab\"/></a>"
      ]
    },
    {
      "cell_type": "code",
      "execution_count": 1,
      "metadata": {
        "id": "P2Z_zjwh-2Lv"
      },
      "outputs": [],
      "source": [
        "import requests"
      ]
    },
    {
      "cell_type": "code",
      "source": [
        "title = input(\"Enter the song title : \")\n",
        "artist = input(\"Enter the artist name : \")\n",
        "response = requests.get(f\"https://api.lyrics.ovh/v1/{artist}/{title}\")\n",
        "print(response)\n",
        "res = response.json()\n",
        "res = res.get(\"lyrics\",\"lyrics not found\")\n",
        "res"
      ],
      "metadata": {
        "colab": {
          "base_uri": "https://localhost:8080/",
          "height": 175
        },
        "id": "GPZPtclF_Lc6",
        "outputId": "be67dbbe-d52f-42f5-ea5e-701a7554137a"
      },
      "execution_count": 19,
      "outputs": [
        {
          "output_type": "stream",
          "name": "stdout",
          "text": [
            "Enter the song title : The man\n",
            "Enter the artist name : Taylor Swift\n",
            "<Response [200]>\n"
          ]
        },
        {
          "output_type": "execute_result",
          "data": {
            "text/plain": [
              "\"I would be complex, I would be cool\\r\\nThey'd say I played the field before I found someone to commit to\\r\\nAnd that would be okay for me to do\\r\\nEvery conquest I had made would make me more of a boss to you\\r\\nI’d be a fearless leader\\n\\nI'd be an alpha type\\n\\nWhen everyone believes ya\\n\\nWhat's that like?\\n\\n\\n\\nI’m so sick of running as fast as I can\\n\\nWondering if I'd get there quicker if I was a man\\n\\nAnd I'm so sick of them coming at me again\\n\\n'Cause if I was a man, then I'd be the man\\n\\nI'd be the man\\n\\nI'd be the man\\n\\n\\n\\nThey'd say I hustled, put in the work\\n\\nThey wouldn’t shake their heads and question how much of this I deserve\\n\\nWhat I was wearing, if I was rude\\n\\nCould all be separated from my good ideas and power moves\\n\\nAnd they would toast to me, oh, let the players play\\n\\nI’d be just like Leo in Saint Tropez\\n\\n\\n\\nI'm so sick of running as fast as I can\\n\\nWondering if I’d get there quicker if I was a man\\n\\nAnd I'm so sick of them coming at me again\\n\\n'Cause if I was a man, then I'd be the man\\n\\nI’d be the man\\n\\nI'd be the man\\n\\n\\n\\nWhat's it like to brag about drinking and dollars\\n\\nAnd getting bitches and models?\\n\\nAnd it's all good if you're bad\\n\\nAnd it's okay if you're mad\\n\\nIf I was out flashing my dollars, I'd be a bitch not a baller\\n\\nThey'd paint me out to be bad\\n\\nSo, it's okay that I'm mad\\n\\n\\n\\nI'm so sick of running as fast as I can\\n\\nWondering if I'd get there quicker if I was a man (You know that)\\n\\nAnd I'm so sick of them coming at me again (Coming at me again)\\n\\n'Cause if I was a man (If I was a man)\\n\\nThen I'd be the man (Then I'd be the man)\\n\\nI'm so sick of running as fast as I can (As fast as I can)\\n\\nWondering if I'd get there quicker if I was a man (Hey)\\n\\nAnd I'm so sick of them coming at me again (Coming at me again)\\n\\n'Cause if I was a man (If I was a man), then I'd be the man\\n\\nI'd be the man\\n\\nI'd be the man (Oh)\\n\\nI'd be the man (Yeah)\\n\\nI'd be the man (I'd be the man)\\n\\n\\n\\nIf I was a man, then I'd be the man\""
            ],
            "application/vnd.google.colaboratory.intrinsic+json": {
              "type": "string"
            }
          },
          "metadata": {},
          "execution_count": 19
        }
      ]
    },
    {
      "cell_type": "code",
      "source": [
        "from IPython.display import display, HTML, Javascript\n",
        "import requests\n",
        "\n",
        "def fetch_lyrics(title, artist):\n",
        "    response = requests.get(f\"https://api.lyrics.ovh/v1/{artist}/{title}\")\n",
        "    if response.status_code == 200:\n",
        "        data = response.json()\n",
        "        lyrics = data.get(\"lyrics\", \"Lyrics not found.\")\n",
        "        return lyrics\n",
        "    else:\n",
        "        return \"Could not retrieve lyrics.\"\n",
        "\n",
        "# HTML and JavaScript for the user interface\n",
        "html = \"\"\"\n",
        "<!DOCTYPE html>\n",
        "<html>\n",
        "<head>\n",
        "    <title>Lyrics Finder</title>\n",
        "    <script>\n",
        "        function fetchLyrics() {\n",
        "            var title = document.getElementById(\"title\").value;\n",
        "            var artist = document.getElementById(\"artist\").value;\n",
        "            google.colab.kernel.invokeFunction('fetch_lyrics', [title, artist], {});\n",
        "        }\n",
        "    </script>\n",
        "</head>\n",
        "<body>\n",
        "    <h1>Lyrics Finder</h1>\n",
        "    <label for=\"title\">Enter the song title:</label>\n",
        "    <input type=\"text\" id=\"title\" name=\"title\"><br><br>\n",
        "    <label for=\"artist\">Enter the artist name:</label>\n",
        "    <input type=\"text\" id=\"artist\" name=\"artist\"><br><br>\n",
        "    <button onclick=\"fetchLyrics()\">Fetch Lyrics</button>\n",
        "    <h2>Lyrics:</h2>\n",
        "    <pre id=\"lyrics\"></pre>\n",
        "</body>\n",
        "</html>\n",
        "\"\"\"\n",
        "\n",
        "def display_html():\n",
        "    display(HTML(html))\n",
        "\n",
        "def update_lyrics(title, artist):\n",
        "    lyrics = fetch_lyrics(title, artist)\n",
        "    display(Javascript(f\"\"\"\n",
        "        document.getElementById(\"lyrics\").innerText = `{lyrics}`;\n",
        "    \"\"\"))\n",
        "\n",
        "# Display the HTML in the notebook\n",
        "display_html()\n",
        "\n",
        "# Register the function to be callable from JavaScript\n",
        "from google.colab import output\n",
        "output.register_callback('fetch_lyrics', update_lyrics)\n"
      ],
      "metadata": {
        "colab": {
          "base_uri": "https://localhost:8080/",
          "height": 1000
        },
        "id": "IhISDISOADe7",
        "outputId": "2929cea2-ce5b-4972-ef4a-bf8b1c278a5b"
      },
      "execution_count": 21,
      "outputs": [
        {
          "output_type": "display_data",
          "data": {
            "text/plain": [
              "<IPython.core.display.HTML object>"
            ],
            "text/html": [
              "\n",
              "<!DOCTYPE html>\n",
              "<html>\n",
              "<head>\n",
              "    <title>Lyrics Finder</title>\n",
              "    <script>\n",
              "        function fetchLyrics() {\n",
              "            var title = document.getElementById(\"title\").value;\n",
              "            var artist = document.getElementById(\"artist\").value;\n",
              "            google.colab.kernel.invokeFunction('fetch_lyrics', [title, artist], {});\n",
              "        }\n",
              "    </script>\n",
              "</head>\n",
              "<body>\n",
              "    <h1>Lyrics Finder</h1>\n",
              "    <label for=\"title\">Enter the song title:</label>\n",
              "    <input type=\"text\" id=\"title\" name=\"title\"><br><br>\n",
              "    <label for=\"artist\">Enter the artist name:</label>\n",
              "    <input type=\"text\" id=\"artist\" name=\"artist\"><br><br>\n",
              "    <button onclick=\"fetchLyrics()\">Fetch Lyrics</button>\n",
              "    <h2>Lyrics:</h2>\n",
              "    <pre id=\"lyrics\"></pre>\n",
              "</body>\n",
              "</html>\n"
            ]
          },
          "metadata": {}
        },
        {
          "output_type": "display_data",
          "data": {
            "text/plain": [
              "<IPython.core.display.Javascript object>"
            ],
            "application/javascript": [
              "\n",
              "        document.getElementById(\"lyrics\").innerText = `I would be complex, I would be cool\r\n",
              "They'd say I played the field before I found someone to commit to\r\n",
              "And that would be okay for me to do\r\n",
              "Every conquest I had made would make me more of a boss to you\r\n",
              "I’d be a fearless leader\n",
              "\n",
              "I'd be an alpha type\n",
              "\n",
              "When everyone believes ya\n",
              "\n",
              "What's that like?\n",
              "\n",
              "\n",
              "\n",
              "I’m so sick of running as fast as I can\n",
              "\n",
              "Wondering if I'd get there quicker if I was a man\n",
              "\n",
              "And I'm so sick of them coming at me again\n",
              "\n",
              "'Cause if I was a man, then I'd be the man\n",
              "\n",
              "I'd be the man\n",
              "\n",
              "I'd be the man\n",
              "\n",
              "\n",
              "\n",
              "They'd say I hustled, put in the work\n",
              "\n",
              "They wouldn’t shake their heads and question how much of this I deserve\n",
              "\n",
              "What I was wearing, if I was rude\n",
              "\n",
              "Could all be separated from my good ideas and power moves\n",
              "\n",
              "And they would toast to me, oh, let the players play\n",
              "\n",
              "I’d be just like Leo in Saint Tropez\n",
              "\n",
              "\n",
              "\n",
              "I'm so sick of running as fast as I can\n",
              "\n",
              "Wondering if I’d get there quicker if I was a man\n",
              "\n",
              "And I'm so sick of them coming at me again\n",
              "\n",
              "'Cause if I was a man, then I'd be the man\n",
              "\n",
              "I’d be the man\n",
              "\n",
              "I'd be the man\n",
              "\n",
              "\n",
              "\n",
              "What's it like to brag about drinking and dollars\n",
              "\n",
              "And getting bitches and models?\n",
              "\n",
              "And it's all good if you're bad\n",
              "\n",
              "And it's okay if you're mad\n",
              "\n",
              "If I was out flashing my dollars, I'd be a bitch not a baller\n",
              "\n",
              "They'd paint me out to be bad\n",
              "\n",
              "So, it's okay that I'm mad\n",
              "\n",
              "\n",
              "\n",
              "I'm so sick of running as fast as I can\n",
              "\n",
              "Wondering if I'd get there quicker if I was a man (You know that)\n",
              "\n",
              "And I'm so sick of them coming at me again (Coming at me again)\n",
              "\n",
              "'Cause if I was a man (If I was a man)\n",
              "\n",
              "Then I'd be the man (Then I'd be the man)\n",
              "\n",
              "I'm so sick of running as fast as I can (As fast as I can)\n",
              "\n",
              "Wondering if I'd get there quicker if I was a man (Hey)\n",
              "\n",
              "And I'm so sick of them coming at me again (Coming at me again)\n",
              "\n",
              "'Cause if I was a man (If I was a man), then I'd be the man\n",
              "\n",
              "I'd be the man\n",
              "\n",
              "I'd be the man (Oh)\n",
              "\n",
              "I'd be the man (Yeah)\n",
              "\n",
              "I'd be the man (I'd be the man)\n",
              "\n",
              "\n",
              "\n",
              "If I was a man, then I'd be the man`;\n",
              "    "
            ]
          },
          "metadata": {}
        }
      ]
    },
    {
      "cell_type": "code",
      "source": [],
      "metadata": {
        "id": "vq7cQH63E9Q_"
      },
      "execution_count": null,
      "outputs": []
    }
  ]
}